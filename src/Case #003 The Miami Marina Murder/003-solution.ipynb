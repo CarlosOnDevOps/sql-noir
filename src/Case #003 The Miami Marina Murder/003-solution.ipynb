{
 "cells": [
  {
   "cell_type": "markdown",
   "metadata": {},
   "source": [
    "# **Case #003: The Miami Marina Murder**\n",
    "#### A body was found floating near the docks of Coral Bay Marina in the early hours of August 14, 1986. Your job detective is to find the murderer and bring them to justice. This case might require the use of JOINs, wildcard searches, and logical deduction. Get to work, detective.\n",
    "\n",
    "## **Objectives**\n",
    "    1. Find the murderer. ( Start by finding the crime scene and go from there )\n",
    "\n",
    "##### First things first, what do we know?\n",
    "    - location = Coral Bay Marina\n",
    "    - date = Aug 14th, 1986\n",
    "    - time = early hours of Aug 14th"
   ]
  },
  {
   "cell_type": "markdown",
   "metadata": {},
   "source": [
    "##### **Step 1**: Review the crime scene report"
   ]
  },
  {
   "cell_type": "markdown",
   "metadata": {},
   "source": []
  },
  {
   "cell_type": "code",
   "execution_count": null,
   "metadata": {},
   "outputs": [],
   "source": [
    "SELECT *\n",
    "FROM crime_scene\n",
    "WHERE location = 'Coral Bay Marina';\n",
    "\n",
    "# dataset output\n",
    "# id\tdate\tlocation\tdescription\n",
    "# 43\t19860814\tCoral Bay Marina\tThe body of an unidentified man was found near the docks. Two people were seen nearby: one who lives on 300ish \"Ocean Drive\" and another whose first name ends with \"ul\" and his last name ends with \"ez\"."
   ]
  },
  {
   "cell_type": "markdown",
   "metadata": {},
   "source": [
    "##### What do we know?\n",
    "    - witnesses claim they saw 2 people near the crime scene\n",
    "    - suspect #1 lives on 300ish Ocean Drive\n",
    "    - suspect #2 first name ends with 'ul' and last name with 'ez'"
   ]
  },
  {
   "cell_type": "markdown",
   "metadata": {},
   "source": [
    "##### **Step 2**: Locate Both Potential Suspects"
   ]
  },
  {
   "cell_type": "code",
   "execution_count": null,
   "metadata": {},
   "outputs": [],
   "source": [
    "SELECT id\n",
    "  , name\n",
    "  , alias\n",
    "  , occupation\n",
    "  , address\n",
    "FROM person\n",
    "WHERE \n",
    "-- suspect #1 profile\n",
    "address LIKE '%Ocean Drive%' OR\n",
    "  \n",
    "-- suspect #2 profile\n",
    "(name LIKE  '%ul%' AND \n",
    "  name LIKE '%ez%');\n",
    "\n",
    "# dataset output\n",
    "# id\tname\talias\taddress\n",
    "# 1\tMarco Romano\tThe Shadow\t22 Ocean Drive\n",
    "# 5\tMichael Santos\tSilent Mike\t33 Ocean Drive\n",
    "# 62\tJesse Brooks\tThe Judge\t234 Ocean Drive\n",
    "# 101\tCarlos Mendez\tLos Ojos\t369 Ocean Drive\n",
    "# 102\tRaul Gutierrez\tThe Cobra\t45 Sunset Ave\n",
    "# 105\tVictor Martinez\tSlick Vic\t33 Ocean Drive\n",
    "\n",
    "8\tThomas Brown\tThe Fox\tDock Worker\t234 Port Street\t55\t8\tSunset Palm Resort\t19860813\t8\t8\t2\tLeft suddenly at 3 AM\t113\t8\tNULL\t73\t8\tAlright! I did it. I was paid to make sure he never left the marina alive"
   ]
  },
  {
   "cell_type": "markdown",
   "metadata": {},
   "source": [
    "##### **Step 3**: Investigating Both Witnesses' Interrogation Transcripts"
   ]
  },
  {
   "cell_type": "code",
   "execution_count": null,
   "metadata": {},
   "outputs": [],
   "source": [
    "SELECT p.id\n",
    "  , p.name\n",
    "  , p.alias\n",
    "  , i.transcript\n",
    "FROM person p\n",
    "JOIN interviews i ON i.person_id=p.id\n",
    "WHERE p.id IN (101, 102);\n",
    "\n",
    "# dataset output\n",
    "# id\tname\talias\ttranscript\n",
    "# 101\tCarlos Mendez\tLos Ojos\tI saw someone check into a hotel on August 13. The guy looked nervous.\n",
    "# 102\tRaul Gutierrez\tThe Cobra\tI heard someone checked into a hotel with \"Sunset\" in the name."
   ]
  },
  {
   "cell_type": "markdown",
   "metadata": {},
   "source": [
    "##### **Checkpoint**: What do we know?\n",
    "    - suspicious person checked into a hotel on Aug 13th with the hotel name having 'Sunset' in it"
   ]
  },
  {
   "cell_type": "markdown",
   "metadata": {},
   "source": []
  },
  {
   "cell_type": "markdown",
   "metadata": {},
   "source": [
    "##### **Step 4**: Identify Suspicous Activity Noted at the Hotel"
   ]
  },
  {
   "cell_type": "code",
   "execution_count": null,
   "metadata": {},
   "outputs": [],
   "source": [
    "SELECT hc.hotel_name\n",
    "  , hc.check_in_date\n",
    "  , hc.person_id\n",
    "  , sr.suspicious_activity\n",
    "FROM hotel_checkins hc\n",
    "JOIN surveillance_records sr ON sr.hotel_checkin_id=hc.id\n",
    "WHERE hc.hotel_name LIKE '%Sunset%' AND\n",
    "  hc.check_in_date = '19860813';\n",
    "  \n",
    "# dataset output\n",
    "# hotel_name\tcheck_in_date\tperson_id\tsuspicious_activity\n",
    "# Sunset Shore Hotel\t19860813\t17\tNULL\n",
    "# Sunset Shores Resort\t19860813\t32\tUsed the hotel gym\n",
    "# Sunset View Inn\t19860813\t13\tNULL\n",
    "# Sunset Coast Inn\t19860813\t39\tSpotted entering late at night\n",
    "# Sunset Bay Hotel\t19860813\t27\tLeft suddenly at 3 AM\n",
    "# . . . "
   ]
  },
  {
   "cell_type": "code",
   "execution_count": null,
   "metadata": {},
   "outputs": [],
   "source": [
    "SELECT p.id AS suspect_id\n",
    "  , p.name AS suspect_name\n",
    "  , p.occupation\n",
    "  , hc.hotel_name\n",
    "  , hc.check_in_date\n",
    "  , sr.suspicious_activity\n",
    "  , i.transcript\n",
    "  , c.confession\n",
    "FROM person p\n",
    "JOIN hotel_checkins hc ON hc.person_id=p.id\n",
    "JOIN surveillance_records sr ON sr.person_id=p.id\n",
    "JOIN interviews i ON i.person_id=p.id\n",
    "JOIN confessions c ON c.person_id=p.id\n",
    "WHERE hc.hotel_name LIKE '%Sunset%' AND\n",
    "  hc.check_in_date = '19860813' AND\n",
    "  sr.suspicious_activity IS NOT NULL\n",
    "ORDER BY p.id ASC;\n",
    "\n",
    "# dataset output\n",
    "# suspect_id\tsuspect_name\toccupation\thotel_name\tcheck_in_date\tsuspicious_activity\ttranscript\tconfession\n",
    "# 7\tRobert Smith\tMechanic\tSunset Marina Hotel\t19860813\tSeen arguing with an unknown person\tNULL\tI was just walking my dog that night.\n",
    "# 8\tThomas Brown\tDock Worker\tSunset Palm Resort\t19860813\tLeft suddenly at 3 AM\tNULL\tAlright! I did it. I was paid to make sure he never left the marina alive.\n",
    "# 9\tDavid Clark\tWarehouse Manager\tSunset Beach Hotel\t19860813\tRequested wake-up call\tThere was an argument near slip 42 around sunset.\tWho are you to question me? I'm an innocent man.\n",
    "# . . . "
   ]
  },
  {
   "cell_type": "markdown",
   "metadata": {},
   "source": [
    "##### **Solution**: Thomas Brown"
   ]
  }
 ],
 "metadata": {
  "language_info": {
   "name": "python"
  }
 },
 "nbformat": 4,
 "nbformat_minor": 2
}
