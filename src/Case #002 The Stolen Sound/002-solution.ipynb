{
 "cells": [
  {
   "cell_type": "markdown",
   "metadata": {},
   "source": [
    "# **Case #002: The Stolen Sound**\n",
    "#### In the neon glow of 1980s Los Angeles, the West Hollywood Records store was rocked by a daring theft. A prized vinyl record, worth over $10,000, vanished during a busy evening, leaving the store owner desperate for answers. Vaguely recalling the details, you know the incident occurred on July 15, 1983, at this famous store. Your task is to track down the thief and bring them to justice."
   ]
  },
  {
   "cell_type": "markdown",
   "metadata": {},
   "source": [
    "## **Objectives**\n",
    "    1. Retrieve the crime scene report for the record theft using the known date and location.\n",
    "    2. Retrieve witness records linked to that crime scene to obtain their clues.\n",
    "    3. Use the clues from the witnesses to find the suspect in the suspects table.\n",
    "    4. Retrieve the suspect's interview transcript to confirm the confession."
   ]
  },
  {
   "cell_type": "markdown",
   "metadata": {},
   "source": []
  },
  {
   "cell_type": "markdown",
   "metadata": {},
   "source": [
    "##### First things first, what do we know?\n",
    "    - the store that was robbed is named West Hollywood Records\n",
    "    - a vinyl record worth $10K was stolen\n",
    "    - crime date was July 15th, 1983"
   ]
  },
  {
   "cell_type": "markdown",
   "metadata": {},
   "source": [
    "##### **Step 1**: Retrieve the crime scene report for the record theft using the known date and location."
   ]
  },
  {
   "cell_type": "code",
   "execution_count": null,
   "metadata": {},
   "outputs": [],
   "source": [
    "SELECT *\n",
    "FROM crime_scene\n",
    "WHERE location = 'West Hollywood Records';"
   ]
  },
  {
   "cell_type": "markdown",
   "metadata": {},
   "source": [
    "##### Step 1 dataset output:"
   ]
  },
  {
   "cell_type": "code",
   "execution_count": 1,
   "metadata": {},
   "outputs": [],
   "source": [
    "# id\tdate\ttype\tlocation\tdescription\n",
    "# 65\t19830715\ttheft\tWest Hollywood Records\tA prized vinyl record was stolen from the store during a busy evening."
   ]
  },
  {
   "cell_type": "markdown",
   "metadata": {},
   "source": [
    "##### **Step 2**: Retrieve witness records linked to that crime scene to obtain their clues."
   ]
  },
  {
   "cell_type": "code",
   "execution_count": null,
   "metadata": {},
   "outputs": [],
   "source": [
    "SELECT cs.*\n",
    "  , w.clue\n",
    "  , w.id AS witness_id\n",
    "FROM crime_scene cs\n",
    "JOIN witnesses w ON w.crime_scene_id=cs.id\n",
    "WHERE cs.location = 'West Hollywood Records';"
   ]
  },
  {
   "cell_type": "markdown",
   "metadata": {},
   "source": [
    "##### Step 2 dataset output"
   ]
  },
  {
   "cell_type": "code",
   "execution_count": 2,
   "metadata": {},
   "outputs": [],
   "source": [
    "# id\tdate\ttype\tlocation\tdescription\tclue\twitness_id\n",
    "# 65\t19830715\ttheft\tWest Hollywood Records\tA prized vinyl record was stolen from the store during a busy evening.\tI saw a man wearing a red bandana rushing out of the store.\t28\n",
    "# 65\t19830715\ttheft\tWest Hollywood Records\tA prized vinyl record was stolen from the store during a busy evening.\tThe main thing I remember is that he had a distinctive gold watch on his wrist.\t75"
   ]
  },
  {
   "cell_type": "markdown",
   "metadata": {},
   "source": [
    "##### **Step 3**: Use the clues from the witnesses to find the suspect in the suspects table."
   ]
  },
  {
   "cell_type": "code",
   "execution_count": null,
   "metadata": {},
   "outputs": [],
   "source": [
    "SELECT id\n",
    "  , name\n",
    "FROM suspects\n",
    "WHERE bandana_color = 'red' AND\n",
    "  accessory = 'gold watch';"
   ]
  },
  {
   "cell_type": "markdown",
   "metadata": {},
   "source": [
    "##### Step 3 dataset output"
   ]
  },
  {
   "cell_type": "code",
   "execution_count": 3,
   "metadata": {},
   "outputs": [],
   "source": [
    "# id\tname\n",
    "# 35\tTony Ramirez\n",
    "# 44\tMickey Rivera\n",
    "# 97\tRico Delgado"
   ]
  },
  {
   "cell_type": "markdown",
   "metadata": {},
   "source": [
    "##### **Step 4**: Retrieve the suspect's interview transcript to confirm the confession."
   ]
  },
  {
   "cell_type": "code",
   "execution_count": null,
   "metadata": {},
   "outputs": [],
   "source": [
    "SELECT s.id\n",
    "  , s.name\n",
    "  , i.transcript\n",
    "FROM suspects s\n",
    "JOIN interviews i ON i.suspect_id=s.id\n",
    "WHERE bandana_color = 'red' AND\n",
    "  accessory = 'gold watch';"
   ]
  },
  {
   "cell_type": "markdown",
   "metadata": {},
   "source": [
    "##### Step 4 dataset output"
   ]
  },
  {
   "cell_type": "code",
   "execution_count": 4,
   "metadata": {},
   "outputs": [],
   "source": [
    "# id\tname\ttranscript\n",
    "# 35\tTony Ramirez\tI wasn't anywhere near West Hollywood Records that night.\n",
    "# 44\tMickey Rivera\tI was busy with my music career; I have nothing to do with this theft.\n",
    "# 97\tRico Delgado\tI couldn't help it. I snapped and took the record."
   ]
  },
  {
   "cell_type": "markdown",
   "metadata": {},
   "source": [
    "##### **Solution**: Rico Delgado"
   ]
  },
  {
   "cell_type": "markdown",
   "metadata": {},
   "source": []
  }
 ],
 "metadata": {
  "kernelspec": {
   "display_name": "Python 3",
   "language": "python",
   "name": "python3"
  },
  "language_info": {
   "codemirror_mode": {
    "name": "ipython",
    "version": 3
   },
   "file_extension": ".py",
   "mimetype": "text/x-python",
   "name": "python",
   "nbconvert_exporter": "python",
   "pygments_lexer": "ipython3",
   "version": "3.10.11"
  }
 },
 "nbformat": 4,
 "nbformat_minor": 2
}
