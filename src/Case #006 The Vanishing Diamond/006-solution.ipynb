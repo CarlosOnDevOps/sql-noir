{
 "cells": [
  {
   "cell_type": "markdown",
   "metadata": {},
   "source": [
    "# **Case #006: The Vanishing Diamond**\n",
    "#### At Miami’s prestigious Fontainebleau Hotel charity gala, the famous “Heart of Atlantis” diamond necklace suddenly disappeared from its display.\n",
    "\n",
    "## **Objectives**\n",
    "    1. Find who stole the diamond.\n",
    "\n",
    "##### First things first, what do we know?\n",
    "    - item stolen = Heart of Atlantis diamond\n",
    "    - location = Fontainebleau Hotel"
   ]
  },
  {
   "cell_type": "markdown",
   "metadata": {},
   "source": [
    "##### **Step 1**: Review the crime scene report"
   ]
  },
  {
   "cell_type": "code",
   "execution_count": null,
   "metadata": {},
   "outputs": [],
   "source": [
    "SELECT *\n",
    "FROM crime_scene\n",
    "WHERE location = 'Fontainebleau Hotel';\n",
    "\n",
    "# dataset output\n",
    "# id\tdate\tlocation\tdescription\n",
    "# 48\t19870520\tFontainebleau Hotel\tThe Heart of Atlantis necklace disappeared. Many guests were questioned but only two of them gave valuable clues. One of them is a really famous actor. The other one is a woman who works as a consultant for a big company and her first name ends with \"an\"."
   ]
  },
  {
   "cell_type": "markdown",
   "metadata": {},
   "source": [
    "##### What do we know?\n",
    "    - necklace = Heart of Atlantis\n",
    "    - two primary witnesses: \n",
    "      - one is a famous actor \n",
    "      - the other is a woman who is a consultant for a large company and her first name ends in 'an'"
   ]
  },
  {
   "cell_type": "markdown",
   "metadata": {},
   "source": [
    "##### Witness #1"
   ]
  },
  {
   "cell_type": "code",
   "execution_count": null,
   "metadata": {},
   "outputs": [],
   "source": [
    "SELECT *\n",
    "FROM guest\n",
    "WHERE occupation = 'Actor';\n",
    "\n",
    "# dataset output\n",
    "# id\tname\toccupation\tinvitation_code\n",
    "# 43\tRuby Baker\tActor\tVIP-R\n",
    "# 129\tClint Eastwood\tActor\tVIP-G\n",
    "# 164\tRiver Bowers\tActor\tVIP-B\n",
    "# 189\tSage Dillon\tActor\tVIP-G\n",
    "# 192\tPhoenix Pitts\tActor\tVIP-G\n",
    "\n",
    "SELECT clue\n",
    "FROM witness_statements\n",
    "WHERE guest_id = 129;\n",
    "\n",
    "# dataset output\n",
    "# clue\n",
    "# I overheard someone say, \"Meet me at the marina, dock 3."
   ]
  },
  {
   "cell_type": "markdown",
   "metadata": {},
   "source": [
    "##### Witness #2"
   ]
  },
  {
   "cell_type": "code",
   "execution_count": null,
   "metadata": {},
   "outputs": [],
   "source": [
    "SELECT *\n",
    "FROM guest\n",
    "WHERE name LIKE '%an %';\n",
    "\n",
    "# dataset output\n",
    "# id\tname\toccupation\tinvitation_code\n",
    "# 14\tEthan Taylor\tFinancial Analyst\tVIP-B\n",
    "# 22\tSebastian Lewis\tMusic Producer\tVIP-R\n",
    "# 40\tJulian Wood\tSports Team Owner\tVIP-R\n",
    "# 60\tRoman Fisher\tNightclub Owner\tVIP-G\n",
    "# 116\tVivian Nair\tConsultant\tVIP-R\n",
    "\n",
    "SELECT clue\n",
    "FROM witness_statements\n",
    "WHERE guest_id = 116;\n",
    "\n",
    "# dataset output\n",
    "# clue\n",
    "# I saw someone holding an invitation ending with \"-R\". He was wearing a navy suit and a white tie."
   ]
  },
  {
   "cell_type": "markdown",
   "metadata": {},
   "source": [
    "##### **Checkpoint**: What do we know?\n",
    "    - location to follow up = Marina Dock 3\n",
    "    - invitation ending with -R\n",
    "    - suspect wearing navy suit + white tie "
   ]
  },
  {
   "cell_type": "markdown",
   "metadata": {},
   "source": [
    "##### Investigating Our Clues for Suspects"
   ]
  },
  {
   "cell_type": "code",
   "execution_count": null,
   "metadata": {},
   "outputs": [],
   "source": [
    "SELECT g.id\n",
    "  , g.name\n",
    "  , g.occupation\n",
    "  , ar.note\n",
    "  , mr.rental_date\n",
    "  , mr.boat_name\n",
    "FROM guest g\n",
    "JOIN attire_registry ar ON ar.guest_id=g.id\n",
    "JOIN marina_rentals mr ON mr.renter_guest_id=g.id\n",
    "WHERE invitation_code LIKE '%-R' AND\n",
    "  ar.note = 'navy suit, white tie' AND\n",
    "  mr.dock_number = 3;\n",
    "  \n",
    "# dataset output\n",
    "# id\tname\toccupation\tnote\trental_date\tboat_name\n",
    "# 105\tMike Manning\tWealth Reallocation Expert\tnavy suit, white tie\t19870520\tCoastal Spirit\n",
    "\n",
    "SELECT confession\n",
    "FROM final_interviews\n",
    "WHERE guest_id = 105;\n",
    "\n",
    "# dataset output\n",
    "# confession\n",
    "# I was the one who took the crystal. I guess I need a lawyer now?"
   ]
  },
  {
   "cell_type": "markdown",
   "metadata": {},
   "source": [
    "##### **Solution**: Mike Manning"
   ]
  }
 ],
 "metadata": {
  "language_info": {
   "name": "python"
  }
 },
 "nbformat": 4,
 "nbformat_minor": 2
}
